{
    "cells": [
        {
            "cell_type": "markdown",
            "metadata": {
                "collapsed": true
            },
            "source": "# First Project\nThis is my first Project in Watson Studio"
        },
        {
            "cell_type": "code",
            "execution_count": 22,
            "metadata": {},
            "outputs": [
                {
                    "data": {
                        "text/html": "<div>\n<style scoped>\n    .dataframe tbody tr th:only-of-type {\n        vertical-align: middle;\n    }\n\n    .dataframe tbody tr th {\n        vertical-align: top;\n    }\n\n    .dataframe thead th {\n        text-align: right;\n    }\n</style>\n<table border=\"1\" class=\"dataframe\">\n  <thead>\n    <tr style=\"text-align: right;\">\n      <th></th>\n      <th>RT</th>\n      <th>SERIALNO</th>\n      <th>DIVISION</th>\n      <th>PUMA</th>\n      <th>REGION</th>\n      <th>ST</th>\n      <th>ADJUST</th>\n      <th>WGTP</th>\n      <th>NP</th>\n      <th>TYPE</th>\n      <th>...</th>\n      <th>wgtp71</th>\n      <th>wgtp72</th>\n      <th>wgtp73</th>\n      <th>wgtp74</th>\n      <th>wgtp75</th>\n      <th>wgtp76</th>\n      <th>wgtp77</th>\n      <th>wgtp78</th>\n      <th>wgtp79</th>\n      <th>wgtp80</th>\n    </tr>\n  </thead>\n  <tbody>\n    <tr>\n      <th>0</th>\n      <td>H</td>\n      <td>186</td>\n      <td>8</td>\n      <td>700</td>\n      <td>4</td>\n      <td>16</td>\n      <td>1015675</td>\n      <td>89</td>\n      <td>4</td>\n      <td>1</td>\n      <td>...</td>\n      <td>81</td>\n      <td>27</td>\n      <td>93</td>\n      <td>151</td>\n      <td>28</td>\n      <td>79</td>\n      <td>25</td>\n      <td>101</td>\n      <td>157</td>\n      <td>129</td>\n    </tr>\n    <tr>\n      <th>1</th>\n      <td>H</td>\n      <td>306</td>\n      <td>8</td>\n      <td>700</td>\n      <td>4</td>\n      <td>16</td>\n      <td>1015675</td>\n      <td>310</td>\n      <td>1</td>\n      <td>1</td>\n      <td>...</td>\n      <td>292</td>\n      <td>401</td>\n      <td>81</td>\n      <td>494</td>\n      <td>346</td>\n      <td>496</td>\n      <td>615</td>\n      <td>286</td>\n      <td>454</td>\n      <td>260</td>\n    </tr>\n    <tr>\n      <th>2</th>\n      <td>H</td>\n      <td>395</td>\n      <td>8</td>\n      <td>100</td>\n      <td>4</td>\n      <td>16</td>\n      <td>1015675</td>\n      <td>106</td>\n      <td>2</td>\n      <td>1</td>\n      <td>...</td>\n      <td>123</td>\n      <td>119</td>\n      <td>168</td>\n      <td>107</td>\n      <td>95</td>\n      <td>101</td>\n      <td>30</td>\n      <td>124</td>\n      <td>106</td>\n      <td>31</td>\n    </tr>\n    <tr>\n      <th>3</th>\n      <td>H</td>\n      <td>506</td>\n      <td>8</td>\n      <td>700</td>\n      <td>4</td>\n      <td>16</td>\n      <td>1015675</td>\n      <td>240</td>\n      <td>4</td>\n      <td>1</td>\n      <td>...</td>\n      <td>68</td>\n      <td>359</td>\n      <td>385</td>\n      <td>71</td>\n      <td>234</td>\n      <td>421</td>\n      <td>76</td>\n      <td>77</td>\n      <td>242</td>\n      <td>231</td>\n    </tr>\n    <tr>\n      <th>4</th>\n      <td>H</td>\n      <td>835</td>\n      <td>8</td>\n      <td>800</td>\n      <td>4</td>\n      <td>16</td>\n      <td>1015675</td>\n      <td>118</td>\n      <td>4</td>\n      <td>1</td>\n      <td>...</td>\n      <td>127</td>\n      <td>36</td>\n      <td>119</td>\n      <td>121</td>\n      <td>116</td>\n      <td>209</td>\n      <td>97</td>\n      <td>176</td>\n      <td>144</td>\n      <td>38</td>\n    </tr>\n  </tbody>\n</table>\n<p>5 rows \u00d7 188 columns</p>\n</div>",
                        "text/plain": "  RT  SERIALNO  DIVISION  PUMA  REGION  ST   ADJUST  WGTP  NP  TYPE  ...  \\\n0  H       186         8   700       4  16  1015675    89   4     1  ...   \n1  H       306         8   700       4  16  1015675   310   1     1  ...   \n2  H       395         8   100       4  16  1015675   106   2     1  ...   \n3  H       506         8   700       4  16  1015675   240   4     1  ...   \n4  H       835         8   800       4  16  1015675   118   4     1  ...   \n\n   wgtp71  wgtp72  wgtp73  wgtp74  wgtp75  wgtp76  wgtp77  wgtp78  wgtp79  \\\n0      81      27      93     151      28      79      25     101     157   \n1     292     401      81     494     346     496     615     286     454   \n2     123     119     168     107      95     101      30     124     106   \n3      68     359     385      71     234     421      76      77     242   \n4     127      36     119     121     116     209      97     176     144   \n\n   wgtp80  \n0     129  \n1     260  \n2      31  \n3     231  \n4      38  \n\n[5 rows x 188 columns]"
                    },
                    "execution_count": 22,
                    "metadata": {},
                    "output_type": "execute_result"
                }
            ],
            "source": "# The code was removed by Watson Studio for sharing."
        },
        {
            "cell_type": "code",
            "execution_count": 23,
            "metadata": {},
            "outputs": [
                {
                    "data": {
                        "text/html": "<div>\n<style scoped>\n    .dataframe tbody tr th:only-of-type {\n        vertical-align: middle;\n    }\n\n    .dataframe tbody tr th {\n        vertical-align: top;\n    }\n\n    .dataframe thead th {\n        text-align: right;\n    }\n</style>\n<table border=\"1\" class=\"dataframe\">\n  <thead>\n    <tr style=\"text-align: right;\">\n      <th></th>\n      <th>SERIALNO</th>\n      <th>DIVISION</th>\n      <th>PUMA</th>\n      <th>REGION</th>\n      <th>ST</th>\n      <th>ADJUST</th>\n      <th>WGTP</th>\n      <th>NP</th>\n      <th>TYPE</th>\n      <th>ACR</th>\n      <th>...</th>\n      <th>wgtp71</th>\n      <th>wgtp72</th>\n      <th>wgtp73</th>\n      <th>wgtp74</th>\n      <th>wgtp75</th>\n      <th>wgtp76</th>\n      <th>wgtp77</th>\n      <th>wgtp78</th>\n      <th>wgtp79</th>\n      <th>wgtp80</th>\n    </tr>\n  </thead>\n  <tbody>\n    <tr>\n      <th>count</th>\n      <td>6.496000e+03</td>\n      <td>6496.0</td>\n      <td>6496.000000</td>\n      <td>6496.0</td>\n      <td>6496.0</td>\n      <td>6496.0</td>\n      <td>6496.000000</td>\n      <td>6496.000000</td>\n      <td>6496.000000</td>\n      <td>5501.000000</td>\n      <td>...</td>\n      <td>6496.000000</td>\n      <td>6496.00000</td>\n      <td>6496.00000</td>\n      <td>6496.000000</td>\n      <td>6496.000000</td>\n      <td>6496.000000</td>\n      <td>6496.000000</td>\n      <td>6496.000000</td>\n      <td>6496.000000</td>\n      <td>6496.000000</td>\n    </tr>\n    <tr>\n      <th>mean</th>\n      <td>6.841337e+05</td>\n      <td>8.0</td>\n      <td>486.222291</td>\n      <td>4.0</td>\n      <td>16.0</td>\n      <td>1015675.0</td>\n      <td>94.781866</td>\n      <td>2.298491</td>\n      <td>1.069581</td>\n      <td>1.357026</td>\n      <td>...</td>\n      <td>94.791564</td>\n      <td>94.77694</td>\n      <td>94.77186</td>\n      <td>94.780172</td>\n      <td>94.769243</td>\n      <td>94.786330</td>\n      <td>94.783867</td>\n      <td>94.773399</td>\n      <td>94.775400</td>\n      <td>94.777401</td>\n    </tr>\n    <tr>\n      <th>std</th>\n      <td>3.906547e+05</td>\n      <td>0.0</td>\n      <td>270.498896</td>\n      <td>0.0</td>\n      <td>0.0</td>\n      <td>0.0</td>\n      <td>73.523809</td>\n      <td>1.563549</td>\n      <td>0.315509</td>\n      <td>0.624471</td>\n      <td>...</td>\n      <td>92.988570</td>\n      <td>95.56488</td>\n      <td>91.49636</td>\n      <td>93.275930</td>\n      <td>92.415760</td>\n      <td>92.950416</td>\n      <td>92.465471</td>\n      <td>94.253192</td>\n      <td>92.665848</td>\n      <td>97.097489</td>\n    </tr>\n    <tr>\n      <th>min</th>\n      <td>1.860000e+02</td>\n      <td>8.0</td>\n      <td>100.000000</td>\n      <td>4.0</td>\n      <td>16.0</td>\n      <td>1015675.0</td>\n      <td>0.000000</td>\n      <td>0.000000</td>\n      <td>1.000000</td>\n      <td>1.000000</td>\n      <td>...</td>\n      <td>0.000000</td>\n      <td>0.00000</td>\n      <td>0.00000</td>\n      <td>0.000000</td>\n      <td>0.000000</td>\n      <td>0.000000</td>\n      <td>0.000000</td>\n      <td>0.000000</td>\n      <td>0.000000</td>\n      <td>0.000000</td>\n    </tr>\n    <tr>\n      <th>25%</th>\n      <td>3.464415e+05</td>\n      <td>8.0</td>\n      <td>300.000000</td>\n      <td>4.0</td>\n      <td>16.0</td>\n      <td>1015675.0</td>\n      <td>50.000000</td>\n      <td>1.000000</td>\n      <td>1.000000</td>\n      <td>1.000000</td>\n      <td>...</td>\n      <td>30.000000</td>\n      <td>29.00000</td>\n      <td>31.00000</td>\n      <td>30.000000</td>\n      <td>30.000000</td>\n      <td>30.000000</td>\n      <td>30.000000</td>\n      <td>30.000000</td>\n      <td>31.000000</td>\n      <td>28.000000</td>\n    </tr>\n    <tr>\n      <th>50%</th>\n      <td>6.869500e+05</td>\n      <td>8.0</td>\n      <td>500.000000</td>\n      <td>4.0</td>\n      <td>16.0</td>\n      <td>1015675.0</td>\n      <td>83.000000</td>\n      <td>2.000000</td>\n      <td>1.000000</td>\n      <td>1.000000</td>\n      <td>...</td>\n      <td>74.000000</td>\n      <td>73.00000</td>\n      <td>75.00000</td>\n      <td>74.000000</td>\n      <td>75.000000</td>\n      <td>75.000000</td>\n      <td>74.000000</td>\n      <td>73.000000</td>\n      <td>74.000000</td>\n      <td>72.000000</td>\n    </tr>\n    <tr>\n      <th>75%</th>\n      <td>1.024785e+06</td>\n      <td>8.0</td>\n      <td>700.000000</td>\n      <td>4.0</td>\n      <td>16.0</td>\n      <td>1015675.0</td>\n      <td>115.000000</td>\n      <td>3.000000</td>\n      <td>1.000000</td>\n      <td>2.000000</td>\n      <td>...</td>\n      <td>126.000000</td>\n      <td>125.00000</td>\n      <td>124.00000</td>\n      <td>124.000000</td>\n      <td>125.000000</td>\n      <td>124.000000</td>\n      <td>125.000000</td>\n      <td>125.000000</td>\n      <td>124.000000</td>\n      <td>126.000000</td>\n    </tr>\n    <tr>\n      <th>max</th>\n      <td>1.358490e+06</td>\n      <td>8.0</td>\n      <td>900.000000</td>\n      <td>4.0</td>\n      <td>16.0</td>\n      <td>1015675.0</td>\n      <td>588.000000</td>\n      <td>11.000000</td>\n      <td>3.000000</td>\n      <td>3.000000</td>\n      <td>...</td>\n      <td>918.000000</td>\n      <td>891.00000</td>\n      <td>832.00000</td>\n      <td>1023.000000</td>\n      <td>880.000000</td>\n      <td>815.000000</td>\n      <td>908.000000</td>\n      <td>1010.000000</td>\n      <td>847.000000</td>\n      <td>897.000000</td>\n    </tr>\n  </tbody>\n</table>\n<p>8 rows \u00d7 187 columns</p>\n</div>",
                        "text/plain": "           SERIALNO  DIVISION         PUMA  REGION      ST     ADJUST  \\\ncount  6.496000e+03    6496.0  6496.000000  6496.0  6496.0     6496.0   \nmean   6.841337e+05       8.0   486.222291     4.0    16.0  1015675.0   \nstd    3.906547e+05       0.0   270.498896     0.0     0.0        0.0   \nmin    1.860000e+02       8.0   100.000000     4.0    16.0  1015675.0   \n25%    3.464415e+05       8.0   300.000000     4.0    16.0  1015675.0   \n50%    6.869500e+05       8.0   500.000000     4.0    16.0  1015675.0   \n75%    1.024785e+06       8.0   700.000000     4.0    16.0  1015675.0   \nmax    1.358490e+06       8.0   900.000000     4.0    16.0  1015675.0   \n\n              WGTP           NP         TYPE          ACR  ...       wgtp71  \\\ncount  6496.000000  6496.000000  6496.000000  5501.000000  ...  6496.000000   \nmean     94.781866     2.298491     1.069581     1.357026  ...    94.791564   \nstd      73.523809     1.563549     0.315509     0.624471  ...    92.988570   \nmin       0.000000     0.000000     1.000000     1.000000  ...     0.000000   \n25%      50.000000     1.000000     1.000000     1.000000  ...    30.000000   \n50%      83.000000     2.000000     1.000000     1.000000  ...    74.000000   \n75%     115.000000     3.000000     1.000000     2.000000  ...   126.000000   \nmax     588.000000    11.000000     3.000000     3.000000  ...   918.000000   \n\n           wgtp72      wgtp73       wgtp74       wgtp75       wgtp76  \\\ncount  6496.00000  6496.00000  6496.000000  6496.000000  6496.000000   \nmean     94.77694    94.77186    94.780172    94.769243    94.786330   \nstd      95.56488    91.49636    93.275930    92.415760    92.950416   \nmin       0.00000     0.00000     0.000000     0.000000     0.000000   \n25%      29.00000    31.00000    30.000000    30.000000    30.000000   \n50%      73.00000    75.00000    74.000000    75.000000    75.000000   \n75%     125.00000   124.00000   124.000000   125.000000   124.000000   \nmax     891.00000   832.00000  1023.000000   880.000000   815.000000   \n\n            wgtp77       wgtp78       wgtp79       wgtp80  \ncount  6496.000000  6496.000000  6496.000000  6496.000000  \nmean     94.783867    94.773399    94.775400    94.777401  \nstd      92.465471    94.253192    92.665848    97.097489  \nmin       0.000000     0.000000     0.000000     0.000000  \n25%      30.000000    30.000000    31.000000    28.000000  \n50%      74.000000    73.000000    74.000000    72.000000  \n75%     125.000000   125.000000   124.000000   126.000000  \nmax     908.000000  1010.000000   847.000000   897.000000  \n\n[8 rows x 187 columns]"
                    },
                    "execution_count": 23,
                    "metadata": {},
                    "output_type": "execute_result"
                }
            ],
            "source": "df.describe()"
        },
        {
            "cell_type": "code",
            "execution_count": null,
            "metadata": {},
            "outputs": [],
            "source": ""
        }
    ],
    "metadata": {
        "kernelspec": {
            "display_name": "Python 3.7 with Spark",
            "language": "python3",
            "name": "python37"
        },
        "language_info": {
            "codemirror_mode": {
                "name": "ipython",
                "version": 3
            },
            "file_extension": ".py",
            "mimetype": "text/x-python",
            "name": "python",
            "nbconvert_exporter": "python",
            "pygments_lexer": "ipython3",
            "version": "3.7.10"
        }
    },
    "nbformat": 4,
    "nbformat_minor": 1
}